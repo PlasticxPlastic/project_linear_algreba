{
  "nbformat": 4,
  "nbformat_minor": 0,
  "metadata": {
    "colab": {
      "provenance": [],
      "collapsed_sections": [],
      "authorship_tag": "ABX9TyPMlNa9pCr84lou6zp1lvHv",
      "include_colab_link": true
    },
    "kernelspec": {
      "name": "python3",
      "display_name": "Python 3"
    },
    "language_info": {
      "name": "python"
    }
  },
  "cells": [
    {
      "cell_type": "markdown",
      "metadata": {
        "id": "view-in-github",
        "colab_type": "text"
      },
      "source": [
        "<a href=\"https://colab.research.google.com/github/PlasticxPlastic/project_linear_algreba/blob/main/the_beatles_recomendation.ipynb\" target=\"_parent\"><img src=\"https://colab.research.google.com/assets/colab-badge.svg\" alt=\"Open In Colab\"/></a>"
      ]
    },
    {
      "cell_type": "code",
      "execution_count": 2,
      "metadata": {
        "id": "Sx5uTejTdI5F"
      },
      "outputs": [],
      "source": [
        "import pandas as pd\n",
        "import numpy as np\n",
        "import seaborn as sns\n",
        "import matplotlib.pyplot as plt"
      ]
    },
    {
      "cell_type": "code",
      "source": [
        "url = \"https://raw.githubusercontent.com/PlasticxPlastic/project_linear_algreba/main/TheBeatlesCleaned.csv\"\n",
        "data = pd.read_csv(url)\n",
        "data.head()"
      ],
      "metadata": {
        "colab": {
          "base_uri": "https://localhost:8080/",
          "height": 206
        },
        "id": "rW_n-VC7QZGJ",
        "outputId": "515dd0b4-bdce-4b79-a700-4621ebd37166"
      },
      "execution_count": 6,
      "outputs": [
        {
          "output_type": "execute_result",
          "data": {
            "text/plain": [
              "   id  year             album                      song  danceability energy  \\\n",
              "0   1  1963  Please Please Me  I Saw Her Standing There         0.491  0.801   \n",
              "1   2  1963  Please Please Me                    Misery         0.591  0.605   \n",
              "2   3  1963  Please Please Me                      Anna         0.608  0.565   \n",
              "3   4  1963  Please Please Me                    Chains         0.654  0.561   \n",
              "4   5  1963  Please Please Me                      Boys         0.402   0.86   \n",
              "\n",
              "   speechiness  acousticness  liveness  valence  duration_ms  \n",
              "0       0.0361         0.270    0.0665    0.971       173947  \n",
              "1       0.0413         0.707    0.3090    0.882       108547  \n",
              "2       0.0336         0.635    0.0601    0.835       177133  \n",
              "3       0.0304         0.608    0.1290    0.929       145080  \n",
              "4       0.0504         0.607    0.7360    0.822       146440  "
            ],
            "text/html": [
              "\n",
              "  <div id=\"df-b3200d3c-074c-4755-b0cd-e4516abc04a4\">\n",
              "    <div class=\"colab-df-container\">\n",
              "      <div>\n",
              "<style scoped>\n",
              "    .dataframe tbody tr th:only-of-type {\n",
              "        vertical-align: middle;\n",
              "    }\n",
              "\n",
              "    .dataframe tbody tr th {\n",
              "        vertical-align: top;\n",
              "    }\n",
              "\n",
              "    .dataframe thead th {\n",
              "        text-align: right;\n",
              "    }\n",
              "</style>\n",
              "<table border=\"1\" class=\"dataframe\">\n",
              "  <thead>\n",
              "    <tr style=\"text-align: right;\">\n",
              "      <th></th>\n",
              "      <th>id</th>\n",
              "      <th>year</th>\n",
              "      <th>album</th>\n",
              "      <th>song</th>\n",
              "      <th>danceability</th>\n",
              "      <th>energy</th>\n",
              "      <th>speechiness</th>\n",
              "      <th>acousticness</th>\n",
              "      <th>liveness</th>\n",
              "      <th>valence</th>\n",
              "      <th>duration_ms</th>\n",
              "    </tr>\n",
              "  </thead>\n",
              "  <tbody>\n",
              "    <tr>\n",
              "      <th>0</th>\n",
              "      <td>1</td>\n",
              "      <td>1963</td>\n",
              "      <td>Please Please Me</td>\n",
              "      <td>I Saw Her Standing There</td>\n",
              "      <td>0.491</td>\n",
              "      <td>0.801</td>\n",
              "      <td>0.0361</td>\n",
              "      <td>0.270</td>\n",
              "      <td>0.0665</td>\n",
              "      <td>0.971</td>\n",
              "      <td>173947</td>\n",
              "    </tr>\n",
              "    <tr>\n",
              "      <th>1</th>\n",
              "      <td>2</td>\n",
              "      <td>1963</td>\n",
              "      <td>Please Please Me</td>\n",
              "      <td>Misery</td>\n",
              "      <td>0.591</td>\n",
              "      <td>0.605</td>\n",
              "      <td>0.0413</td>\n",
              "      <td>0.707</td>\n",
              "      <td>0.3090</td>\n",
              "      <td>0.882</td>\n",
              "      <td>108547</td>\n",
              "    </tr>\n",
              "    <tr>\n",
              "      <th>2</th>\n",
              "      <td>3</td>\n",
              "      <td>1963</td>\n",
              "      <td>Please Please Me</td>\n",
              "      <td>Anna</td>\n",
              "      <td>0.608</td>\n",
              "      <td>0.565</td>\n",
              "      <td>0.0336</td>\n",
              "      <td>0.635</td>\n",
              "      <td>0.0601</td>\n",
              "      <td>0.835</td>\n",
              "      <td>177133</td>\n",
              "    </tr>\n",
              "    <tr>\n",
              "      <th>3</th>\n",
              "      <td>4</td>\n",
              "      <td>1963</td>\n",
              "      <td>Please Please Me</td>\n",
              "      <td>Chains</td>\n",
              "      <td>0.654</td>\n",
              "      <td>0.561</td>\n",
              "      <td>0.0304</td>\n",
              "      <td>0.608</td>\n",
              "      <td>0.1290</td>\n",
              "      <td>0.929</td>\n",
              "      <td>145080</td>\n",
              "    </tr>\n",
              "    <tr>\n",
              "      <th>4</th>\n",
              "      <td>5</td>\n",
              "      <td>1963</td>\n",
              "      <td>Please Please Me</td>\n",
              "      <td>Boys</td>\n",
              "      <td>0.402</td>\n",
              "      <td>0.86</td>\n",
              "      <td>0.0504</td>\n",
              "      <td>0.607</td>\n",
              "      <td>0.7360</td>\n",
              "      <td>0.822</td>\n",
              "      <td>146440</td>\n",
              "    </tr>\n",
              "  </tbody>\n",
              "</table>\n",
              "</div>\n",
              "      <button class=\"colab-df-convert\" onclick=\"convertToInteractive('df-b3200d3c-074c-4755-b0cd-e4516abc04a4')\"\n",
              "              title=\"Convert this dataframe to an interactive table.\"\n",
              "              style=\"display:none;\">\n",
              "        \n",
              "  <svg xmlns=\"http://www.w3.org/2000/svg\" height=\"24px\"viewBox=\"0 0 24 24\"\n",
              "       width=\"24px\">\n",
              "    <path d=\"M0 0h24v24H0V0z\" fill=\"none\"/>\n",
              "    <path d=\"M18.56 5.44l.94 2.06.94-2.06 2.06-.94-2.06-.94-.94-2.06-.94 2.06-2.06.94zm-11 1L8.5 8.5l.94-2.06 2.06-.94-2.06-.94L8.5 2.5l-.94 2.06-2.06.94zm10 10l.94 2.06.94-2.06 2.06-.94-2.06-.94-.94-2.06-.94 2.06-2.06.94z\"/><path d=\"M17.41 7.96l-1.37-1.37c-.4-.4-.92-.59-1.43-.59-.52 0-1.04.2-1.43.59L10.3 9.45l-7.72 7.72c-.78.78-.78 2.05 0 2.83L4 21.41c.39.39.9.59 1.41.59.51 0 1.02-.2 1.41-.59l7.78-7.78 2.81-2.81c.8-.78.8-2.07 0-2.86zM5.41 20L4 18.59l7.72-7.72 1.47 1.35L5.41 20z\"/>\n",
              "  </svg>\n",
              "      </button>\n",
              "      \n",
              "  <style>\n",
              "    .colab-df-container {\n",
              "      display:flex;\n",
              "      flex-wrap:wrap;\n",
              "      gap: 12px;\n",
              "    }\n",
              "\n",
              "    .colab-df-convert {\n",
              "      background-color: #E8F0FE;\n",
              "      border: none;\n",
              "      border-radius: 50%;\n",
              "      cursor: pointer;\n",
              "      display: none;\n",
              "      fill: #1967D2;\n",
              "      height: 32px;\n",
              "      padding: 0 0 0 0;\n",
              "      width: 32px;\n",
              "    }\n",
              "\n",
              "    .colab-df-convert:hover {\n",
              "      background-color: #E2EBFA;\n",
              "      box-shadow: 0px 1px 2px rgba(60, 64, 67, 0.3), 0px 1px 3px 1px rgba(60, 64, 67, 0.15);\n",
              "      fill: #174EA6;\n",
              "    }\n",
              "\n",
              "    [theme=dark] .colab-df-convert {\n",
              "      background-color: #3B4455;\n",
              "      fill: #D2E3FC;\n",
              "    }\n",
              "\n",
              "    [theme=dark] .colab-df-convert:hover {\n",
              "      background-color: #434B5C;\n",
              "      box-shadow: 0px 1px 3px 1px rgba(0, 0, 0, 0.15);\n",
              "      filter: drop-shadow(0px 1px 2px rgba(0, 0, 0, 0.3));\n",
              "      fill: #FFFFFF;\n",
              "    }\n",
              "  </style>\n",
              "\n",
              "      <script>\n",
              "        const buttonEl =\n",
              "          document.querySelector('#df-b3200d3c-074c-4755-b0cd-e4516abc04a4 button.colab-df-convert');\n",
              "        buttonEl.style.display =\n",
              "          google.colab.kernel.accessAllowed ? 'block' : 'none';\n",
              "\n",
              "        async function convertToInteractive(key) {\n",
              "          const element = document.querySelector('#df-b3200d3c-074c-4755-b0cd-e4516abc04a4');\n",
              "          const dataTable =\n",
              "            await google.colab.kernel.invokeFunction('convertToInteractive',\n",
              "                                                     [key], {});\n",
              "          if (!dataTable) return;\n",
              "\n",
              "          const docLinkHtml = 'Like what you see? Visit the ' +\n",
              "            '<a target=\"_blank\" href=https://colab.research.google.com/notebooks/data_table.ipynb>data table notebook</a>'\n",
              "            + ' to learn more about interactive tables.';\n",
              "          element.innerHTML = '';\n",
              "          dataTable['output_type'] = 'display_data';\n",
              "          await google.colab.output.renderOutput(dataTable, element);\n",
              "          const docLink = document.createElement('div');\n",
              "          docLink.innerHTML = docLinkHtml;\n",
              "          element.appendChild(docLink);\n",
              "        }\n",
              "      </script>\n",
              "    </div>\n",
              "  </div>\n",
              "  "
            ]
          },
          "metadata": {},
          "execution_count": 6
        }
      ]
    },
    {
      "cell_type": "code",
      "source": [
        "data.count()"
      ],
      "metadata": {
        "colab": {
          "base_uri": "https://localhost:8080/"
        },
        "id": "UQhETIe3TcZI",
        "outputId": "01f4670b-e695-452b-db67-ed709ab1703a"
      },
      "execution_count": 9,
      "outputs": [
        {
          "output_type": "execute_result",
          "data": {
            "text/plain": [
              "id              193\n",
              "year            193\n",
              "album           193\n",
              "song            193\n",
              "danceability    193\n",
              "energy          193\n",
              "speechiness     193\n",
              "acousticness    193\n",
              "liveness        193\n",
              "valence         193\n",
              "duration_ms     193\n",
              "dtype: int64"
            ]
          },
          "metadata": {},
          "execution_count": 9
        }
      ]
    },
    {
      "cell_type": "code",
      "source": [
        "data.isnull().sum()"
      ],
      "metadata": {
        "colab": {
          "base_uri": "https://localhost:8080/"
        },
        "id": "rdXByswME1YF",
        "outputId": "b0f38347-2553-4d5b-c982-b94b7e7cdbc0"
      },
      "execution_count": 8,
      "outputs": [
        {
          "output_type": "execute_result",
          "data": {
            "text/plain": [
              "id              0\n",
              "year            0\n",
              "album           0\n",
              "song            0\n",
              "danceability    0\n",
              "energy          0\n",
              "speechiness     0\n",
              "acousticness    0\n",
              "liveness        0\n",
              "valence         0\n",
              "duration_ms     0\n",
              "dtype: int64"
            ]
          },
          "metadata": {},
          "execution_count": 8
        }
      ]
    },
    {
      "cell_type": "code",
      "source": [
        "data[\"song\"].value_counts()"
      ],
      "metadata": {
        "colab": {
          "base_uri": "https://localhost:8080/"
        },
        "id": "YDWpJpXRFDtw",
        "outputId": "3afdc404-ed63-44e5-8eb2-fc4aaea2ba95"
      },
      "execution_count": 10,
      "outputs": [
        {
          "output_type": "execute_result",
          "data": {
            "text/plain": [
              "yellow submarine            2\n",
              "all you need is love        2\n",
              "I Saw Her Standing There    1\n",
              "blackbird                   1\n",
              "dear prudence               1\n",
              "                           ..\n",
              "tell me what you see        1\n",
              "ive just seen a face        1\n",
              "yesterday                   1\n",
              "dizzy miss lizzy            1\n",
              "get back                    1\n",
              "Name: song, Length: 191, dtype: int64"
            ]
          },
          "metadata": {},
          "execution_count": 10
        }
      ]
    },
    {
      "cell_type": "code",
      "source": [
        "data[\"album\"].value_counts()"
      ],
      "metadata": {
        "colab": {
          "base_uri": "https://localhost:8080/"
        },
        "id": "C4nUaCHhFbPx",
        "outputId": "03087849-1310-40d1-96f3-eca61d0fb404"
      },
      "execution_count": 11,
      "outputs": [
        {
          "output_type": "execute_result",
          "data": {
            "text/plain": [
              "The Beatles (white album)                30\n",
              "Abbey Road                               17\n",
              "Please Please Me                         14\n",
              "With The Beatles                         14\n",
              "Beatles for Sale                         14\n",
              "Help!                                    14\n",
              "Rubber Soul                              14\n",
              "Revolver                                 14\n",
              "A Hard Day's Night                       13\n",
              "Sgt. Pepper's Lonely Hearts Club Band    13\n",
              "Yellow Submarine                         13\n",
              "Let It Be                                12\n",
              "Magical Mystery Tour                     11\n",
              "Name: album, dtype: int64"
            ]
          },
          "metadata": {},
          "execution_count": 11
        }
      ]
    },
    {
      "cell_type": "code",
      "source": [],
      "metadata": {
        "id": "mRKLKXruFgro"
      },
      "execution_count": 19,
      "outputs": []
    }
  ]
}